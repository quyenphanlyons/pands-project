{
 "cells": [
  {
   "cell_type": "markdown",
   "id": "9e8a30c1",
   "metadata": {},
   "source": [
    "# Project - Programming and Scripting\n",
    "1. Research the data set online and write a summary about it in your README.\n",
    "2. Download the data set and add it to your repository.\n",
    "3. Write a program called analysis.py that:\n",
    "    1. Outputs a summary of each variable to a single text file,\n",
    "    2. Saves a histogram of each variable to png files, and\n",
    "    3. Outputs a scatter plot of each pair of variables.\n",
    "    4. Performs any other analysis you think is appropriate."
   ]
  },
  {
   "cell_type": "markdown",
   "id": "f7a9e30e",
   "metadata": {},
   "source": [
    "## 1. Research the data set online and write a summary about it in your README. \n",
    "Check [README](https://github.com/quyenphanlyons/pands-project/blob/main/README.md)"
   ]
  },
  {
   "cell_type": "markdown",
   "id": "b617e551",
   "metadata": {},
   "source": [
    "## 2. Download the data set and add it to your repository.\n",
    "From the given link, I downloaded the data set to my laptop and uploaded the file to my repository by using button Add files/ Upload files.\n",
    "\n",
    "5 collumns in the file iris.data contains values of these following attributes :\n",
    "   1. sepal length in cm\n",
    "   2. sepal width in cm\n",
    "   3. petal length in cm\n",
    "   4. petal width in cm\n",
    "   5. class: \n",
    "      -- Iris Setosa\n",
    "      -- Iris Versicolour\n",
    "      -- Iris Virginica\n",
    "\n",
    "I create a table named 'tableau' with the data from file iris.data. Since the database iris.data doesn't have columns names, I need to create columns names for 'tableau'. I rename the attributes and used them as columns names:\n",
    "   1. sepal_length\n",
    "   2. sepal_width\n",
    "   3. petal_length\n",
    "   4. petal_width\n",
    "   5. class\n",
    "\n",
    "\n",
    "    "
   ]
  },
  {
   "cell_type": "code",
   "execution_count": 1,
   "id": "3c6a2610",
   "metadata": {},
   "outputs": [
    {
     "name": "stdout",
     "output_type": "stream",
     "text": [
      "     sepal_length  sepal_width  petal_length  petal_width           class\n",
      "0             5.1          3.5           1.4          0.2     Iris-setosa\n",
      "1             4.9          3.0           1.4          0.2     Iris-setosa\n",
      "2             4.7          3.2           1.3          0.2     Iris-setosa\n",
      "3             4.6          3.1           1.5          0.2     Iris-setosa\n",
      "4             5.0          3.6           1.4          0.2     Iris-setosa\n",
      "..            ...          ...           ...          ...             ...\n",
      "145           6.7          3.0           5.2          2.3  Iris-virginica\n",
      "146           6.3          2.5           5.0          1.9  Iris-virginica\n",
      "147           6.5          3.0           5.2          2.0  Iris-virginica\n",
      "148           6.2          3.4           5.4          2.3  Iris-virginica\n",
      "149           5.9          3.0           5.1          1.8  Iris-virginica\n",
      "\n",
      "[150 rows x 5 columns]\n"
     ]
    }
   ],
   "source": [
    "# Data frames.\n",
    "import pandas as pd\n",
    "\n",
    "# Create names for the columns\n",
    "column_names = ['sepal_length', 'sepal_width', 'petal_length', 'petal_width', 'class']\n",
    "\n",
    "# Load the CSV into a DataFrame:\n",
    "tableau = pd.read_csv(\"iris/iris.data\", names=column_names)\n",
    "\n",
    "# Visualise tableau\n",
    "print(tableau)\n",
    "\n",
    "# Ressources:\n",
    "# https://pandas.pydata.org/docs/reference/api/pandas.read_csv.html"
   ]
  },
  {
   "cell_type": "markdown",
   "id": "bf6bb9a8",
   "metadata": {},
   "source": [
    "## 3. Write a program called analysis.py that:"
   ]
  },
  {
   "cell_type": "code",
   "execution_count": 2,
   "id": "f03dbfe6",
   "metadata": {},
   "outputs": [
    {
     "data": {
      "text/html": [
       "<div>\n",
       "<style scoped>\n",
       "    .dataframe tbody tr th:only-of-type {\n",
       "        vertical-align: middle;\n",
       "    }\n",
       "\n",
       "    .dataframe tbody tr th {\n",
       "        vertical-align: top;\n",
       "    }\n",
       "\n",
       "    .dataframe thead th {\n",
       "        text-align: right;\n",
       "    }\n",
       "</style>\n",
       "<table border=\"1\" class=\"dataframe\">\n",
       "  <thead>\n",
       "    <tr style=\"text-align: right;\">\n",
       "      <th></th>\n",
       "      <th>sepal_length</th>\n",
       "      <th>sepal_width</th>\n",
       "      <th>petal_length</th>\n",
       "      <th>petal_width</th>\n",
       "    </tr>\n",
       "  </thead>\n",
       "  <tbody>\n",
       "    <tr>\n",
       "      <th>count</th>\n",
       "      <td>150.000000</td>\n",
       "      <td>150.000000</td>\n",
       "      <td>150.000000</td>\n",
       "      <td>150.000000</td>\n",
       "    </tr>\n",
       "    <tr>\n",
       "      <th>mean</th>\n",
       "      <td>5.843333</td>\n",
       "      <td>3.054000</td>\n",
       "      <td>3.758667</td>\n",
       "      <td>1.198667</td>\n",
       "    </tr>\n",
       "    <tr>\n",
       "      <th>std</th>\n",
       "      <td>0.828066</td>\n",
       "      <td>0.433594</td>\n",
       "      <td>1.764420</td>\n",
       "      <td>0.763161</td>\n",
       "    </tr>\n",
       "    <tr>\n",
       "      <th>min</th>\n",
       "      <td>4.300000</td>\n",
       "      <td>2.000000</td>\n",
       "      <td>1.000000</td>\n",
       "      <td>0.100000</td>\n",
       "    </tr>\n",
       "    <tr>\n",
       "      <th>25%</th>\n",
       "      <td>5.100000</td>\n",
       "      <td>2.800000</td>\n",
       "      <td>1.600000</td>\n",
       "      <td>0.300000</td>\n",
       "    </tr>\n",
       "    <tr>\n",
       "      <th>50%</th>\n",
       "      <td>5.800000</td>\n",
       "      <td>3.000000</td>\n",
       "      <td>4.350000</td>\n",
       "      <td>1.300000</td>\n",
       "    </tr>\n",
       "    <tr>\n",
       "      <th>75%</th>\n",
       "      <td>6.400000</td>\n",
       "      <td>3.300000</td>\n",
       "      <td>5.100000</td>\n",
       "      <td>1.800000</td>\n",
       "    </tr>\n",
       "    <tr>\n",
       "      <th>max</th>\n",
       "      <td>7.900000</td>\n",
       "      <td>4.400000</td>\n",
       "      <td>6.900000</td>\n",
       "      <td>2.500000</td>\n",
       "    </tr>\n",
       "  </tbody>\n",
       "</table>\n",
       "</div>"
      ],
      "text/plain": [
       "       sepal_length  sepal_width  petal_length  petal_width\n",
       "count    150.000000   150.000000    150.000000   150.000000\n",
       "mean       5.843333     3.054000      3.758667     1.198667\n",
       "std        0.828066     0.433594      1.764420     0.763161\n",
       "min        4.300000     2.000000      1.000000     0.100000\n",
       "25%        5.100000     2.800000      1.600000     0.300000\n",
       "50%        5.800000     3.000000      4.350000     1.300000\n",
       "75%        6.400000     3.300000      5.100000     1.800000\n",
       "max        7.900000     4.400000      6.900000     2.500000"
      ]
     },
     "execution_count": 2,
     "metadata": {},
     "output_type": "execute_result"
    }
   ],
   "source": [
    "analyse=tableau.describe()\n",
    "analyse"
   ]
  },
  {
   "cell_type": "markdown",
   "id": "aaee32f8",
   "metadata": {},
   "source": [
    "### 1. Outputs a summary of each variable to a single text file,"
   ]
  },
  {
   "cell_type": "code",
   "execution_count": 3,
   "id": "66dfd807",
   "metadata": {},
   "outputs": [],
   "source": [
    "import numpy as np\n",
    "\n",
    "# Create a file text where the outputs can be stored\n",
    "file_path = 'Iris_stats_summary.txt'\n",
    "\n",
    "with open(file_path,'w') as f:\n",
    "    f.write((\"Iris data set - Statistical summary\\n\\n\"))\n",
    "\n",
    "    # For each variable, show the type of the variable and check for missing value\n",
    "    for column in tableau.columns:\n",
    "\n",
    "        # Write the name of the variable/column\n",
    "        f.write(f\"Variable: {column}\\n\")\n",
    "\n",
    "        # write the data type of the column\n",
    "        f.write(f\"Type: {tableau[column].dtype}\\n\")\n",
    "\n",
    "        # write the number of missing values in the column\n",
    "        f.write(f\"Missing values: {tableau[column].isnull().sum()}\\n\")\n",
    "\n",
    "        \n",
    "        stats = tableau[column].describe().round(2)\n",
    "        f.write(f\"summary: {stats}\\n\")\n",
    "        f.write(\"-\"*20 + \"\\n\\n\")\n",
    "        \n",
    "        # If the variable is numeric, return the Mean, Standard deviation, Min, Max, Quartile:\n",
    "        # If the variable is object, return the values and the frequency of each value\n",
    "\n",
    "\n",
    "# Ressources:\n",
    "# Create file text\n",
    "# https://www.geeksforgeeks.org/create-a-new-text-file-in-python/\n",
    "\n",
    "# Check for missing value and add up if there is more than 1 missing value\n",
    "# https://www.atlassian.com/data/notebook/how-to-check-if-any-value-is-nan-in-a-pandas-dataframe\n",
    "\n",
    "# To limit the floating point decimal while using fucntion describe\n",
    "# https://stackoverflow.com/questions/71191987/how-to-limit-the-floating-point-decimal-while-using-describe-function-on-datafra/71192397\n"
   ]
  },
  {
   "cell_type": "markdown",
   "id": "800d8f77",
   "metadata": {},
   "source": [
    "### 2. Saves a histogram of each variable to png files, and"
   ]
  },
  {
   "cell_type": "code",
   "execution_count": null,
   "id": "9a9e09cf",
   "metadata": {},
   "outputs": [
    {
     "data": {
      "image/png": "[encoded data removed]",
      "text/plain": [
       "<Figure size 640x480 with 1 Axes>"
      ]
     },
     "metadata": {},
     "output_type": "display_data"
    }
   ],
   "source": [
    "from matplotlib import pyplot as plt\n",
    "\n",
    "for column in tableau.columns:\n",
    "    plt.hist(tableau[column],bins = 10, alpha = 0.5, color = 'green', edgecolor = 'black')\n",
    "    plt.xlabel(column)\n",
    "    plt.ylabel('number of observations')\n",
    "    plt.title(f'Histogram: {column}', fontweight='bold')\n",
    "\n",
    "# to do: save histogram to png\n",
    "# separate histograms"
   ]
  },
  {
   "cell_type": "markdown",
   "id": "37ccc105",
   "metadata": {},
   "source": [
    "### 3. Outputs a scatter plot of each pair of variables."
   ]
  },
  {
   "cell_type": "markdown",
   "id": "78709c4f",
   "metadata": {},
   "source": []
  }
 ],
 "metadata": {
  "kernelspec": {
   "display_name": "Python 3",
   "language": "python",
   "name": "python3"
  },
  "language_info": {
   "codemirror_mode": {
    "name": "ipython",
    "version": 3
   },
   "file_extension": ".py",
   "mimetype": "text/x-python",
   "name": "python",
   "nbconvert_exporter": "python",
   "pygments_lexer": "ipython3",
   "version": "3.12.1"
  }
 },
 "nbformat": 4,
 "nbformat_minor": 5
}
